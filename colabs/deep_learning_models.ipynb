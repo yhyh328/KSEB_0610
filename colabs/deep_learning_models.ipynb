{
 "cells": [
  {
   "cell_type": "markdown",
   "metadata": {
    "id": "7R-7QFeDR2ej"
   },
   "source": [
    "# 드라이브 연동"
   ]
  },
  {
   "cell_type": "code",
   "execution_count": null,
   "metadata": {
    "colab": {
     "base_uri": "https://localhost:8080/"
    },
    "executionInfo": {
     "elapsed": 24619,
     "status": "ok",
     "timestamp": 1749745828953,
     "user": {
      "displayName": "김요한 ([SSAFY_OB])",
      "userId": "02942415637779425101"
     },
     "user_tz": -540
    },
    "id": "vPofl5VTLyz-",
    "outputId": "a93b27f4-90f1-4041-d543-5e4237f73ae7"
   },
   "outputs": [
    {
     "name": "stdout",
     "output_type": "stream",
     "text": [
      "Mounted at /content/drive\n"
     ]
    }
   ],
   "source": [
    "from google.colab import drive\n",
    "drive.mount('/content/drive')"
   ]
  },
  {
   "cell_type": "markdown",
   "metadata": {
    "id": "kPtoe0K8R400"
   },
   "source": [
    "# 라이브러리 설치 및 선언"
   ]
  },
  {
   "cell_type": "code",
   "execution_count": null,
   "metadata": {
    "colab": {
     "base_uri": "https://localhost:8080/"
    },
    "collapsed": true,
    "executionInfo": {
     "elapsed": 21050,
     "status": "ok",
     "timestamp": 1749750292938,
     "user": {
      "displayName": "김요한 ([SSAFY_OB])",
      "userId": "02942415637779425101"
     },
     "user_tz": -540
    },
    "id": "gKPGjwhL6nhO",
    "outputId": "261b44d0-9c4b-4ee3-db82-bc85eb286148"
   },
   "outputs": [
    {
     "name": "stdout",
     "output_type": "stream",
     "text": [
      "Reading package lists... Done\n",
      "Building dependency tree... Done\n",
      "Reading state information... Done\n",
      "ffmpeg is already the newest version (7:4.4.2-0ubuntu0.22.04.1).\n",
      "0 upgraded, 0 newly installed, 0 to remove and 35 not upgraded.\n",
      "Requirement already satisfied: pydub in /usr/local/lib/python3.11/dist-packages (0.25.1)\n"
     ]
    }
   ],
   "source": [
    "!apt install ffmpeg -y\n",
    "!pip install pydub"
   ]
  },
  {
   "cell_type": "code",
   "execution_count": null,
   "metadata": {
    "id": "87kkCTBZLgf_"
   },
   "outputs": [],
   "source": [
    "import os\n",
    "import csv\n",
    "import librosa\n",
    "import pandas as pd\n",
    "import numpy as np\n",
    "\n",
    "\n",
    "from sklearn.preprocessing import LabelEncoder\n",
    "from sklearn.preprocessing import MinMaxScaler\n",
    "from sklearn.model_selection import train_test_split\n",
    "\n",
    "import tensorflow as tf\n",
    "from tensorflow.keras import layers, models\n",
    "from tensorflow.keras.models import load_model\n",
    "from tensorflow import keras\n",
    "from tensorflow.keras import Sequential\n",
    "from tensorflow.keras.layers import Dense\n",
    "\n",
    "\n",
    "import matplotlib.pyplot as plt\n",
    "from pydub import AudioSegment\n"
   ]
  },
  {
   "cell_type": "code",
   "execution_count": null,
   "metadata": {
    "colab": {
     "base_uri": "https://localhost:8080/"
    },
    "executionInfo": {
     "elapsed": 69,
     "status": "ok",
     "timestamp": 1749745924615,
     "user": {
      "displayName": "김요한 ([SSAFY_OB])",
      "userId": "02942415637779425101"
     },
     "user_tz": -540
    },
    "id": "VfR3HM-ale0U",
    "outputId": "c5b909f1-dad7-4513-835a-22b8f9e08e8c"
   },
   "outputs": [
    {
     "name": "stdout",
     "output_type": "stream",
     "text": [
      "✔️ 이미 변환된 파일: /content/drive/MyDrive/Colab Notebooks/kseb_edu/kseb_0610/datas/myaudio/wav/7ne4VBA60CxGM75vw0EYad.wav\n",
      "✔️ 이미 변환된 파일: /content/drive/MyDrive/Colab Notebooks/kseb_edu/kseb_0610/datas/myaudio/wav/6iOndD4OFo7GkaDypWQIou.wav\n",
      "✔️ 이미 변환된 파일: /content/drive/MyDrive/Colab Notebooks/kseb_edu/kseb_0610/datas/myaudio/wav/2yWlGEgEfPot0lv3OAjuG3.wav\n",
      "✔️ 이미 변환된 파일: /content/drive/MyDrive/Colab Notebooks/kseb_edu/kseb_0610/datas/myaudio/wav/7tI8dRuH2Yc6RuoTjxo4dU.wav\n",
      "✔️ 이미 변환된 파일: /content/drive/MyDrive/Colab Notebooks/kseb_edu/kseb_0610/datas/myaudio/wav/27xkOIER6uDLKALIelHylZ.wav\n",
      "✔️ 이미 변환된 파일: /content/drive/MyDrive/Colab Notebooks/kseb_edu/kseb_0610/datas/myaudio/wav/2RkZ5LkEzeHGRsmDqKwmaJ.wav\n",
      "✔️ 이미 변환된 파일: /content/drive/MyDrive/Colab Notebooks/kseb_edu/kseb_0610/datas/myaudio/wav/1HEwEN64NjgTaHmo7LfkX8.wav\n",
      "✔️ 이미 변환된 파일: /content/drive/MyDrive/Colab Notebooks/kseb_edu/kseb_0610/datas/myaudio/wav/4AajxCEwGEsmHmT4H1TwjY.wav\n",
      "✔️ 이미 변환된 파일: /content/drive/MyDrive/Colab Notebooks/kseb_edu/kseb_0610/datas/myaudio/wav/5ITV0zqzjOYfFWpW0xBmRa.wav\n",
      "✔️ 이미 변환된 파일: /content/drive/MyDrive/Colab Notebooks/kseb_edu/kseb_0610/datas/myaudio/wav/2HRqTpkrJO5ggZyyK6NPWz.wav\n",
      "✔️ 이미 변환된 파일: /content/drive/MyDrive/Colab Notebooks/kseb_edu/kseb_0610/datas/myaudio/wav/4wJ5Qq0jBN4ajy7ouZIV1c.wav\n",
      "✔️ 이미 변환된 파일: /content/drive/MyDrive/Colab Notebooks/kseb_edu/kseb_0610/datas/myaudio/wav/04emojnbYkrRmv5qtJcgVP.wav\n",
      "✔️ 이미 변환된 파일: /content/drive/MyDrive/Colab Notebooks/kseb_edu/kseb_0610/datas/myaudio/wav/0QCIpQV3twfqo9kh0t8Zza.wav\n",
      "✔️ 이미 변환된 파일: /content/drive/MyDrive/Colab Notebooks/kseb_edu/kseb_0610/datas/myaudio/wav/2CGNAOSuO1MEFCbBRgUzjd.wav\n",
      "✔️ 이미 변환된 파일: /content/drive/MyDrive/Colab Notebooks/kseb_edu/kseb_0610/datas/myaudio/wav/0fK7ie6XwGxQTIkpFoWkd1.wav\n",
      "✔️ 이미 변환된 파일: /content/drive/MyDrive/Colab Notebooks/kseb_edu/kseb_0610/datas/myaudio/wav/5XeFesFbtLpXzIVDNQP22n.wav\n",
      "✔️ 이미 변환된 파일: /content/drive/MyDrive/Colab Notebooks/kseb_edu/kseb_0610/datas/myaudio/wav/6eLQXa6uk2EW8drsiKbABZ.wav\n",
      "✔️ 이미 변환된 파일: /content/drive/MyDrive/Colab Notebooks/kseb_edu/kseb_0610/datas/myaudio/wav/3hpm0fTeSqlhJbnqAgaLZs.wav\n",
      "✔️ 이미 변환된 파일: /content/drive/MyDrive/Colab Notebooks/kseb_edu/kseb_0610/datas/myaudio/wav/4Q0qVhFQa7j6jRKzo3HDmP.wav\n",
      "✔️ 이미 변환된 파일: /content/drive/MyDrive/Colab Notebooks/kseb_edu/kseb_0610/datas/myaudio/wav/3xkHsmpQCBMytMJNiDf3Ii.wav\n",
      "✔️ 이미 변환된 파일: /content/drive/MyDrive/Colab Notebooks/kseb_edu/kseb_0610/datas/myaudio/wav/4oB8Xd7gMlUEtWoD8bmCXW.wav\n",
      "✔️ 이미 변환된 파일: /content/drive/MyDrive/Colab Notebooks/kseb_edu/kseb_0610/datas/myaudio/wav/6393yGahSJ9slVdOwSxOVR.wav\n",
      "✔️ 이미 변환된 파일: /content/drive/MyDrive/Colab Notebooks/kseb_edu/kseb_0610/datas/myaudio/wav/0FTmksd2dxiE5e3rWyJXs6.wav\n",
      "✔️ 이미 변환된 파일: /content/drive/MyDrive/Colab Notebooks/kseb_edu/kseb_0610/datas/myaudio/wav/21IYMdzTrzSe191Cy5eMap.wav\n",
      "✔️ 이미 변환된 파일: /content/drive/MyDrive/Colab Notebooks/kseb_edu/kseb_0610/datas/myaudio/wav/3sK8wGT43QFpWrvNQsrQya.wav\n",
      "✔️ 이미 변환된 파일: /content/drive/MyDrive/Colab Notebooks/kseb_edu/kseb_0610/datas/myaudio/wav/0WbMK4wrZ1wFSty9F7FCgu.wav\n",
      "✔️ 이미 변환된 파일: /content/drive/MyDrive/Colab Notebooks/kseb_edu/kseb_0610/datas/myaudio/wav/3siwsiaEoU4Kuuc9WKMUy5.wav\n",
      "✔️ 이미 변환된 파일: /content/drive/MyDrive/Colab Notebooks/kseb_edu/kseb_0610/datas/myaudio/wav/17phhZDn6oGtzMe56NuWvj.wav\n",
      "✔️ 이미 변환된 파일: /content/drive/MyDrive/Colab Notebooks/kseb_edu/kseb_0610/datas/myaudio/wav/3GCdLUSnKSMJhs4Tj6CV3s.wav\n",
      "✔️ 이미 변환된 파일: /content/drive/MyDrive/Colab Notebooks/kseb_edu/kseb_0610/datas/myaudio/wav/4e6TmHCC4PRUj75knNplNP.wav\n",
      "✔️ 이미 변환된 파일: /content/drive/MyDrive/Colab Notebooks/kseb_edu/kseb_0610/datas/myaudio/wav/3QaPy1KgI7nu9FJEQUgn6h.wav\n",
      "✔️ 이미 변환된 파일: /content/drive/MyDrive/Colab Notebooks/kseb_edu/kseb_0610/datas/myaudio/wav/6dOtVTDdiauQNBQEDOtlAB.wav\n",
      "✔️ 이미 변환된 파일: /content/drive/MyDrive/Colab Notebooks/kseb_edu/kseb_0610/datas/myaudio/wav/2QjOHCTQ1Jl3zawyYOpxh6.wav\n",
      "✔️ 이미 변환된 파일: /content/drive/MyDrive/Colab Notebooks/kseb_edu/kseb_0610/datas/myaudio/wav/0FIDCNYYjNvPVimz5icugS.wav\n",
      "✔️ 이미 변환된 파일: /content/drive/MyDrive/Colab Notebooks/kseb_edu/kseb_0610/datas/myaudio/wav/4WFgvKVfEhb3IUAFGrutTR.wav\n",
      "✔️ 이미 변환된 파일: /content/drive/MyDrive/Colab Notebooks/kseb_edu/kseb_0610/datas/myaudio/wav/1UPB5rYJ0bzn6mNSoAHrZC.wav\n",
      "✔️ 이미 변환된 파일: /content/drive/MyDrive/Colab Notebooks/kseb_edu/kseb_0610/datas/myaudio/wav/7so0lgd0zP2Sbgs2d7a1SZ.wav\n",
      "✔️ 이미 변환된 파일: /content/drive/MyDrive/Colab Notebooks/kseb_edu/kseb_0610/datas/myaudio/wav/42UBPzRMh5yyz0EDPr6fr1.wav\n",
      "✔️ 이미 변환된 파일: /content/drive/MyDrive/Colab Notebooks/kseb_edu/kseb_0610/datas/myaudio/wav/5yJaXWIErrrsjQ3J0eR5aK.wav\n",
      "✔️ 이미 변환된 파일: /content/drive/MyDrive/Colab Notebooks/kseb_edu/kseb_0610/datas/myaudio/wav/7CyPwkp0oE8Ro9Dd5CUDjW.wav\n",
      "✔️ 이미 변환된 파일: /content/drive/MyDrive/Colab Notebooks/kseb_edu/kseb_0610/datas/myaudio/wav/5Qnm8kfRqAO7uYl18opkUE.wav\n",
      "✔️ 이미 변환된 파일: /content/drive/MyDrive/Colab Notebooks/kseb_edu/kseb_0610/datas/myaudio/wav/7c5uGV9Rys18JP2570ykTu.wav\n",
      "✔️ 이미 변환된 파일: /content/drive/MyDrive/Colab Notebooks/kseb_edu/kseb_0610/datas/myaudio/wav/24fRfn3FOM4xk02aE4wief.wav\n",
      "✔️ 이미 변환된 파일: /content/drive/MyDrive/Colab Notebooks/kseb_edu/kseb_0610/datas/myaudio/wav/0OMHMgH263gIrUcszYYivV.wav\n",
      "✔️ 이미 변환된 파일: /content/drive/MyDrive/Colab Notebooks/kseb_edu/kseb_0610/datas/myaudio/wav/79r4mAwHBAB1x5QnImlUM6.wav\n",
      "✔️ 이미 변환된 파일: /content/drive/MyDrive/Colab Notebooks/kseb_edu/kseb_0610/datas/myaudio/wav/6VBfzBgHu8tFeeg2ZQO4gH.wav\n",
      "✔️ 이미 변환된 파일: /content/drive/MyDrive/Colab Notebooks/kseb_edu/kseb_0610/datas/myaudio/wav/1SBdVvoxfFvuO6BVY9WqnI.wav\n",
      "✔️ 이미 변환된 파일: /content/drive/MyDrive/Colab Notebooks/kseb_edu/kseb_0610/datas/myaudio/wav/7hO6BIPeHb0Y5v9bgXoxKg.wav\n",
      "✔️ 이미 변환된 파일: /content/drive/MyDrive/Colab Notebooks/kseb_edu/kseb_0610/datas/myaudio/wav/4nP3JxLWurlrvollaDlxsJ.wav\n",
      "✔️ 이미 변환된 파일: /content/drive/MyDrive/Colab Notebooks/kseb_edu/kseb_0610/datas/myaudio/wav/2RdEC8Ff83WkX7kDVCHseE.wav\n",
      "✔️ 이미 변환된 파일: /content/drive/MyDrive/Colab Notebooks/kseb_edu/kseb_0610/datas/myaudio/wav/3fD3CRxrTurrH3W4nJEt26.wav\n",
      "✔️ 이미 변환된 파일: /content/drive/MyDrive/Colab Notebooks/kseb_edu/kseb_0610/datas/myaudio/wav/021iZJ1jjc6cZZ4sMXvcW9.wav\n",
      "✔️ 이미 변환된 파일: /content/drive/MyDrive/Colab Notebooks/kseb_edu/kseb_0610/datas/myaudio/wav/5JjQdivvXPrnjeEoxE16WD.wav\n",
      "✔️ 이미 변환된 파일: /content/drive/MyDrive/Colab Notebooks/kseb_edu/kseb_0610/datas/myaudio/wav/2tUXE87QNnoVQZApV3uyVZ.wav\n",
      "✔️ 이미 변환된 파일: /content/drive/MyDrive/Colab Notebooks/kseb_edu/kseb_0610/datas/myaudio/wav/0DGP0pRR8yz4OW2xxjIskt.wav\n",
      "✔️ 이미 변환된 파일: /content/drive/MyDrive/Colab Notebooks/kseb_edu/kseb_0610/datas/myaudio/wav/62auSQwzIlyVuqUsxd4w63.wav\n",
      "✔️ 이미 변환된 파일: /content/drive/MyDrive/Colab Notebooks/kseb_edu/kseb_0610/datas/myaudio/wav/73MJ65QLIfsU2GyCt5KQ3a.wav\n",
      "✔️ 이미 변환된 파일: /content/drive/MyDrive/Colab Notebooks/kseb_edu/kseb_0610/datas/myaudio/wav/2lTm559tuIvatlT1u0JYG2.wav\n",
      "✔️ 이미 변환된 파일: /content/drive/MyDrive/Colab Notebooks/kseb_edu/kseb_0610/datas/myaudio/wav/35ISBknsCeZQtq66xABI9g.wav\n",
      "✔️ 이미 변환된 파일: /content/drive/MyDrive/Colab Notebooks/kseb_edu/kseb_0610/datas/myaudio/wav/6Qyc6fS4DsZjB2mRW9DsQs.wav\n"
     ]
    }
   ],
   "source": [
    "# 변환 대상 폴더\n",
    "mp3_folder = \"/content/drive/MyDrive/과정운영/KSEB/2025년도/프로젝트 결과/04. 김요한_전호연_김시명팀/audio/mp3\"\n",
    "wav_folder = \"/content/drive/MyDrive/과정운영/KSEB/2025년도/프로젝트 결과/04. 김요한_전호연_김시명팀/audio/wav\"\n",
    "\n",
    "wavs = set([os.path.join(wav_folder, _) for _ in os.listdir(wav_folder)])\n",
    "\n",
    "# 하위 폴더까지 mp3 → wav 변환\n",
    "for root, _, files in os.walk(mp3_folder):\n",
    "    for file in files:\n",
    "      mp3_path = os.path.join(mp3_folder, file)\n",
    "      wav_filename = os.path.splitext(file)[0] + \".wav\"\n",
    "      wav_path = os.path.join(wav_folder, wav_filename)\n",
    "\n",
    "      if wav_path in wavs:\n",
    "        print(f\"✔️ 이미 변환된 파일: {wav_path}\")\n",
    "        continue\n",
    "\n",
    "      try:\n",
    "          audio = AudioSegment.from_mp3(mp3_path)\n",
    "          audio.export(wav_path, format=\"wav\")\n",
    "          print(f\"✅ 변환 완료: {wav_path}\")\n",
    "      except Exception as e:\n",
    "          print(f\"⚠️ 변환 실패: {mp3_path} ({e})\")"
   ]
  },
  {
   "cell_type": "code",
   "execution_count": null,
   "metadata": {
    "colab": {
     "base_uri": "https://localhost:8080/"
    },
    "collapsed": true,
    "executionInfo": {
     "elapsed": 93,
     "status": "ok",
     "timestamp": 1749745930096,
     "user": {
      "displayName": "김요한 ([SSAFY_OB])",
      "userId": "02942415637779425101"
     },
     "user_tz": -540
    },
    "id": "qmzOWS69KiA2",
    "outputId": "9fa0b406-1be5-426b-f6ff-7f919503f36e"
   },
   "outputs": [
    {
     "name": "stdout",
     "output_type": "stream",
     "text": [
      "✅ 매칭 완료 (하위폴더 포함): local_to_spotify_mapping.csv\n"
     ]
    }
   ],
   "source": [
    "results = []\n",
    "\n",
    "for root, dirs, files in os.walk(wav_folder):\n",
    "    for file in files:\n",
    "      full_path = os.path.join(root, file)\n",
    "\n",
    "      results.append({\n",
    "          'spotify_id': file[ : len(file) - 4],\n",
    "          'path': full_path\n",
    "      })\n",
    "\n",
    "# 결과 저장\n",
    "df = pd.DataFrame(results)\n",
    "df = df.drop_duplicates(subset=['spotify_id'], keep='first')\n",
    "df.to_csv(\"local_to_spotify_mapping.csv\", index=False, encoding=\"utf-8-sig\")\n",
    "print(\"✅ 매칭 완료 (하위폴더 포함): local_to_spotify_mapping.csv\")"
   ]
  },
  {
   "cell_type": "markdown",
   "metadata": {
    "id": "NdQOglMQZRsv"
   },
   "source": [
    "# 데이터 전처리"
   ]
  },
  {
   "cell_type": "markdown",
   "metadata": {
    "id": "q1xZ4MJDa5Ce"
   },
   "source": [
    "### features\n",
    "- spotify_id\n",
    "\n",
    "### labels\n",
    "- labels 종류\n",
    "  - energy\n",
    "  - acousticness\n",
    "  - tempo\n",
    "- 추후 머신러닝에서 features를 선정"
   ]
  },
  {
   "cell_type": "code",
   "execution_count": null,
   "metadata": {
    "id": "oTXBwSt6dEQi"
   },
   "outputs": [],
   "source": [
    "# music_table = pd.read_csv('/content/drive/MyDrive/Colab Notebooks/kseb_edu/kseb_0610/datas/universal_top_spotify_songs.csv')\n",
    "import glob\n",
    "csv_path = '/content/drive/MyDrive/과정운영/KSEB/2025년도/프로젝트 결과/04. 김요한_전호연_김시명팀/csv'\n",
    "csv_files = glob.glob(f'{csv_path}/songDf_cluster*_dm.csv')\n",
    "dfs = [pd.read_csv(csv_file) for csv_file in csv_files]\n",
    "music_table = pd.concat(dfs, ignore_index=True)"
   ]
  },
  {
   "cell_type": "code",
   "execution_count": null,
   "metadata": {
    "colab": {
     "base_uri": "https://localhost:8080/"
    },
    "collapsed": true,
    "executionInfo": {
     "elapsed": 140704,
     "status": "ok",
     "timestamp": 1749746114376,
     "user": {
      "displayName": "김요한 ([SSAFY_OB])",
      "userId": "02942415637779425101"
     },
     "user_tz": -540
    },
    "id": "VgkayI-eZTPL",
    "outputId": "75970463-ed5a-4025-ad94-4dbe077b60a6"
   },
   "outputs": [
    {
     "name": "stdout",
     "output_type": "stream",
     "text": [
      "2RkZ5LkEzeHGRsmDqKwmaJ 처리 중\n",
      "2RkZ5LkEzeHGRsmDqKwmaJ 처리 완료\n",
      "------------------------------\n",
      "1HEwEN64NjgTaHmo7LfkX8 처리 중\n",
      "1HEwEN64NjgTaHmo7LfkX8 처리 완료\n",
      "------------------------------\n",
      "4AajxCEwGEsmHmT4H1TwjY 처리 중\n",
      "4AajxCEwGEsmHmT4H1TwjY 처리 완료\n",
      "------------------------------\n",
      "5ITV0zqzjOYfFWpW0xBmRa 처리 중\n",
      "5ITV0zqzjOYfFWpW0xBmRa 처리 완료\n",
      "------------------------------\n",
      "2HRqTpkrJO5ggZyyK6NPWz 처리 중\n",
      "2HRqTpkrJO5ggZyyK6NPWz 처리 완료\n",
      "------------------------------\n",
      "4wJ5Qq0jBN4ajy7ouZIV1c 처리 중\n",
      "4wJ5Qq0jBN4ajy7ouZIV1c 처리 완료\n",
      "------------------------------\n",
      "04emojnbYkrRmv5qtJcgVP 처리 중\n",
      "04emojnbYkrRmv5qtJcgVP 처리 완료\n",
      "------------------------------\n",
      "2CGNAOSuO1MEFCbBRgUzjd 처리 중\n",
      "2CGNAOSuO1MEFCbBRgUzjd 처리 완료\n",
      "------------------------------\n",
      "0QCIpQV3twfqo9kh0t8Zza 처리 중\n",
      "0QCIpQV3twfqo9kh0t8Zza 처리 완료\n",
      "------------------------------\n",
      "0fK7ie6XwGxQTIkpFoWkd1 처리 중\n",
      "0fK7ie6XwGxQTIkpFoWkd1 처리 완료\n",
      "------------------------------\n",
      "5XeFesFbtLpXzIVDNQP22n 처리 중\n",
      "5XeFesFbtLpXzIVDNQP22n 처리 완료\n",
      "------------------------------\n",
      "6eLQXa6uk2EW8drsiKbABZ 처리 중\n",
      "6eLQXa6uk2EW8drsiKbABZ 처리 완료\n",
      "------------------------------\n",
      "35ISBknsCeZQtq66xABI9g 처리 중\n",
      "35ISBknsCeZQtq66xABI9g 처리 완료\n",
      "------------------------------\n",
      "3hpm0fTeSqlhJbnqAgaLZs 처리 중\n",
      "3hpm0fTeSqlhJbnqAgaLZs 처리 완료\n",
      "------------------------------\n",
      "0OMHMgH263gIrUcszYYivV 처리 중\n",
      "0OMHMgH263gIrUcszYYivV 처리 완료\n",
      "------------------------------\n",
      "4Q0qVhFQa7j6jRKzo3HDmP 처리 중\n",
      "4Q0qVhFQa7j6jRKzo3HDmP 처리 완료\n",
      "------------------------------\n",
      "0DGP0pRR8yz4OW2xxjIskt 처리 중\n",
      "0DGP0pRR8yz4OW2xxjIskt 처리 완료\n",
      "------------------------------\n",
      "73MJ65QLIfsU2GyCt5KQ3a 처리 중\n",
      "73MJ65QLIfsU2GyCt5KQ3a 처리 완료\n",
      "------------------------------\n",
      "3xkHsmpQCBMytMJNiDf3Ii 처리 중\n",
      "3xkHsmpQCBMytMJNiDf3Ii 처리 완료\n",
      "------------------------------\n",
      "3fD3CRxrTurrH3W4nJEt26 처리 중\n",
      "3fD3CRxrTurrH3W4nJEt26 처리 완료\n",
      "------------------------------\n",
      "2tUXE87QNnoVQZApV3uyVZ 처리 중\n",
      "2tUXE87QNnoVQZApV3uyVZ 처리 완료\n",
      "------------------------------\n",
      "2RdEC8Ff83WkX7kDVCHseE 처리 중\n",
      "2RdEC8Ff83WkX7kDVCHseE 처리 완료\n",
      "------------------------------\n",
      "1SBdVvoxfFvuO6BVY9WqnI 처리 중\n",
      "1SBdVvoxfFvuO6BVY9WqnI 처리 완료\n",
      "------------------------------\n",
      "021iZJ1jjc6cZZ4sMXvcW9 처리 중\n",
      "021iZJ1jjc6cZZ4sMXvcW9 처리 완료\n",
      "------------------------------\n",
      "7hO6BIPeHb0Y5v9bgXoxKg 처리 중\n",
      "7hO6BIPeHb0Y5v9bgXoxKg 처리 완료\n",
      "------------------------------\n",
      "7c5uGV9Rys18JP2570ykTu 처리 중\n",
      "7c5uGV9Rys18JP2570ykTu 처리 완료\n",
      "------------------------------\n",
      "6VBfzBgHu8tFeeg2ZQO4gH 처리 중\n",
      "6VBfzBgHu8tFeeg2ZQO4gH 처리 완료\n",
      "------------------------------\n",
      "5JjQdivvXPrnjeEoxE16WD 처리 중\n",
      "5JjQdivvXPrnjeEoxE16WD 처리 완료\n",
      "------------------------------\n",
      "4nP3JxLWurlrvollaDlxsJ 처리 중\n",
      "4nP3JxLWurlrvollaDlxsJ 처리 완료\n",
      "------------------------------\n",
      "0FIDCNYYjNvPVimz5icugS 처리 중\n",
      "0FIDCNYYjNvPVimz5icugS 처리 완료\n",
      "------------------------------\n",
      "5Qnm8kfRqAO7uYl18opkUE 처리 중\n",
      "5Qnm8kfRqAO7uYl18opkUE 처리 완료\n",
      "------------------------------\n",
      "79r4mAwHBAB1x5QnImlUM6 처리 중\n",
      "79r4mAwHBAB1x5QnImlUM6 처리 완료\n",
      "------------------------------\n",
      "62auSQwzIlyVuqUsxd4w63 처리 중\n",
      "62auSQwzIlyVuqUsxd4w63 처리 완료\n",
      "------------------------------\n",
      "24fRfn3FOM4xk02aE4wief 처리 중\n",
      "24fRfn3FOM4xk02aE4wief 처리 완료\n",
      "------------------------------\n",
      "4WFgvKVfEhb3IUAFGrutTR 처리 중\n",
      "4WFgvKVfEhb3IUAFGrutTR 처리 완료\n",
      "------------------------------\n",
      "4e6TmHCC4PRUj75knNplNP 처리 중\n",
      "4e6TmHCC4PRUj75knNplNP 처리 완료\n",
      "------------------------------\n",
      "3QaPy1KgI7nu9FJEQUgn6h 처리 중\n",
      "3QaPy1KgI7nu9FJEQUgn6h 처리 완료\n",
      "------------------------------\n",
      "2QjOHCTQ1Jl3zawyYOpxh6 처리 중\n",
      "2QjOHCTQ1Jl3zawyYOpxh6 처리 완료\n",
      "------------------------------\n",
      "1UPB5rYJ0bzn6mNSoAHrZC 처리 중\n",
      "1UPB5rYJ0bzn6mNSoAHrZC 처리 완료\n",
      "------------------------------\n",
      "0FTmksd2dxiE5e3rWyJXs6 처리 중\n",
      "0FTmksd2dxiE5e3rWyJXs6 처리 완료\n",
      "------------------------------\n",
      "42UBPzRMh5yyz0EDPr6fr1 처리 중\n",
      "42UBPzRMh5yyz0EDPr6fr1 처리 완료\n",
      "------------------------------\n",
      "7so0lgd0zP2Sbgs2d7a1SZ 처리 중\n",
      "7so0lgd0zP2Sbgs2d7a1SZ 처리 완료\n",
      "------------------------------\n",
      "7CyPwkp0oE8Ro9Dd5CUDjW 처리 중\n",
      "7CyPwkp0oE8Ro9Dd5CUDjW 처리 완료\n",
      "------------------------------\n",
      "6dOtVTDdiauQNBQEDOtlAB 처리 중\n",
      "6dOtVTDdiauQNBQEDOtlAB 처리 완료\n",
      "------------------------------\n",
      "5yJaXWIErrrsjQ3J0eR5aK 처리 중\n",
      "5yJaXWIErrrsjQ3J0eR5aK 처리 완료\n",
      "------------------------------\n",
      "4oB8Xd7gMlUEtWoD8bmCXW 처리 중\n",
      "4oB8Xd7gMlUEtWoD8bmCXW 처리 완료\n",
      "------------------------------\n",
      "3sK8wGT43QFpWrvNQsrQya 처리 중\n",
      "3sK8wGT43QFpWrvNQsrQya 처리 완료\n",
      "------------------------------\n",
      "3siwsiaEoU4Kuuc9WKMUy5 처리 중\n",
      "3siwsiaEoU4Kuuc9WKMUy5 처리 완료\n",
      "------------------------------\n",
      "3GCdLUSnKSMJhs4Tj6CV3s 처리 중\n",
      "3GCdLUSnKSMJhs4Tj6CV3s 처리 완료\n",
      "------------------------------\n",
      "0WbMK4wrZ1wFSty9F7FCgu 처리 중\n",
      "0WbMK4wrZ1wFSty9F7FCgu 처리 완료\n",
      "------------------------------\n",
      "6393yGahSJ9slVdOwSxOVR 처리 중\n",
      "6393yGahSJ9slVdOwSxOVR 처리 완료\n",
      "------------------------------\n",
      "21IYMdzTrzSe191Cy5eMap 처리 중\n",
      "21IYMdzTrzSe191Cy5eMap 처리 완료\n",
      "------------------------------\n",
      "17phhZDn6oGtzMe56NuWvj 처리 중\n",
      "17phhZDn6oGtzMe56NuWvj 처리 완료\n",
      "------------------------------\n",
      "6Qyc6fS4DsZjB2mRW9DsQs 처리 중\n",
      "6Qyc6fS4DsZjB2mRW9DsQs 처리 완료\n",
      "------------------------------\n",
      "27xkOIER6uDLKALIelHylZ 처리 중\n",
      "27xkOIER6uDLKALIelHylZ 처리 완료\n",
      "------------------------------\n",
      "6iOndD4OFo7GkaDypWQIou 처리 중\n",
      "6iOndD4OFo7GkaDypWQIou 처리 완료\n",
      "------------------------------\n",
      "2yWlGEgEfPot0lv3OAjuG3 처리 중\n",
      "2yWlGEgEfPot0lv3OAjuG3 처리 완료\n",
      "------------------------------\n",
      "2lTm559tuIvatlT1u0JYG2 처리 중\n",
      "2lTm559tuIvatlT1u0JYG2 처리 완료\n",
      "------------------------------\n",
      "7tI8dRuH2Yc6RuoTjxo4dU 처리 중\n",
      "7tI8dRuH2Yc6RuoTjxo4dU 처리 완료\n",
      "------------------------------\n",
      "7ne4VBA60CxGM75vw0EYad 처리 중\n",
      "7ne4VBA60CxGM75vw0EYad 처리 완료\n",
      "------------------------------\n"
     ]
    }
   ],
   "source": [
    "\n",
    "features = []\n",
    "labels_loudness, labels_valence, labels_tempo = [], [], []\n",
    "\n",
    "mel_scaler = MinMaxScaler()\n",
    "mel_db_list = []\n",
    "\n",
    "with open(\"local_to_spotify_mapping.csv\", mode='r', encoding='utf-8-sig') as file:\n",
    "\n",
    "    csv_reader = csv.DictReader(file)\n",
    "\n",
    "    for _ in csv_reader:\n",
    "        spotify_id, path = _['spotify_id'], _['path']\n",
    "\n",
    "        print(f'{spotify_id} 처리 중')\n",
    "\n",
    "        # AudioReader\n",
    "        audio, sr = librosa.load(path, sr=16000)\n",
    "        '''\n",
    "        filepath: .wav 등 오디오 파일 경로\n",
    "        librosa.load(...): 오디오 파일을 파형 데이터로 불러옴\n",
    "        y_audio: 실제 음파를 나타내는 1차원 numpy 배열 (ex: 16000 samples/sec)\n",
    "        sr: 샘플링레이트. 여기선 16kHz로 고정함 (즉, 1초당 16000개의 값으로 파형 표현)\n",
    "        '''\n",
    "        mel = librosa.feature.melspectrogram(y=audio, sr=sr, n_mels=128)\n",
    "        '''\n",
    "        mel: Mel-spectrogram — 시간에 따른 주파수 성분의 세기를 나타내는 2D 배열\n",
    "        크기: (128, T) → 128개의 주파수 대역 × 시간 프레임 수\n",
    "        n_mels=128: 사람의 청각 특성(Mel-scale)에 맞춰 주파수 대역을 128개로 나눔\n",
    "        쉽게 말해: 소리의 세기를 시간축과 주파수축으로 시각화한 것\n",
    "        '''\n",
    "        mel_db = librosa.power_to_db(mel, ref=np.max)\n",
    "        '''\n",
    "        Mel-spectrogram은 **power 값(음압의 제곱)**이라서 숫자 범위가 큽니다.\n",
    "        이를 dB 단위(로그 스케일)로 변환하여 더 직관적이고 학습에 적합한 형태로 만듦\n",
    "        ref=np.max: 최대값을 기준으로 상대 dB 계산\n",
    "        즉, 사람 귀로 들리는 강도와 유사하게 변환\n",
    "        '''\n",
    "\n",
    "        mel_db_list.append(mel_db)\n",
    "\n",
    "\n",
    "        # labelsReader\n",
    "        row = music_table[music_table[\"spotify_id\"] == spotify_id]\n",
    "        labels_loudness.append(row[\"loudness\"].values[0])\n",
    "        labels_valence.append(row[\"valence\"].values[0])\n",
    "        labels_tempo.append(row[\"tempo\"].values[0])\n",
    "\n",
    "        print(f'{spotify_id} 처리 완료')\n",
    "        print('-' * 30)\n",
    "\n",
    "flat_mel = np.concatenate([m.reshape(-1, 1) for m in mel_db_list])\n",
    "mel_scaler.fit(flat_mel)\n",
    "\n",
    "for mel_db in mel_db_list:\n",
    "    # mel_db_scaled = mel_scaler.fit_transform(mel_db.reshape(-1, 1)).reshape(mel_db.shape)\n",
    "    mel_db_scaled = mel_scaler.transform(mel_db.reshape(-1, 1)).reshape(mel_db.shape)  # ⛔ fit_transform ➡ transform\n",
    "    '''\n",
    "    모든 파일들의 Gain과 Volume 일정하게 조절하는 역할\n",
    "    '''\n",
    "    mel_db_scaled = np.expand_dims(mel_db_scaled, axis=-1)\n",
    "    '''\n",
    "    딥러닝 모델에 넣기 위해 채널 차원 추가\n",
    "    원래는 (128, T) → 여기에 axis=-1로 차원 하나 추가 → (128, T, 1)\n",
    "    이건 마치 흑백 이미지를 CNN에 넣을 때 (높이, 너비, 채널)로 맞추는 것과 동일한 작업입니다.\n",
    "    '''\n",
    "    features.append(mel_db_scaled)"
   ]
  },
  {
   "cell_type": "code",
   "execution_count": null,
   "metadata": {
    "id": "U__6FnAvlydd"
   },
   "outputs": [],
   "source": [
    "# Mel-spectrogram padding\n",
    "\n",
    "# 가장 긴 시간 길이\n",
    "max_duration = max([feature.shape[1] for feature in features])\n",
    "\n",
    "# 반복으로 Mel-spectrogram 길이 맞추기\n",
    "padding = np.array([\n",
    "    np.concatenate(\n",
    "        [feature] * (max_duration // feature.shape[1] + 1),  # 반복해서 충분히 길게 만든 뒤\n",
    "        axis=1\n",
    "    )[:, :max_duration, :]  # 필요한 길이만 자르기\n",
    "    for feature in features\n",
    "])"
   ]
  },
  {
   "cell_type": "code",
   "execution_count": null,
   "metadata": {
    "id": "CWzSJrrJVKmW"
   },
   "outputs": [],
   "source": [
    "labels_loudness = np.array(labels_loudness).reshape(-1, 1)\n",
    "labels_valence = np.array(labels_valence).reshape(-1, 1)\n",
    "labels_tempo = np.array(labels_tempo).reshape(-1, 1)\n",
    "\n",
    "loudness_scaler, valence_scaler, tempo_scaler = MinMaxScaler(), MinMaxScaler(), MinMaxScaler()\n",
    "\n",
    "loudness_scale_path = \"/content/drive/MyDrive/과정운영/KSEB/2025년도/프로젝트 결과/04. 김요한_전호연_김시명팀/김요한/loudness_scaler_scale_.npy\"\n",
    "loudness_min_path = \"/content/drive/MyDrive/과정운영/KSEB/2025년도/프로젝트 결과/04. 김요한_전호연_김시명팀/김요한/loudness_scaler_min_.npy\"\n",
    "\n",
    "valence_scale_path = \"/content/drive/MyDrive/과정운영/KSEB/2025년도/프로젝트 결과/04. 김요한_전호연_김시명팀/김요한/valence_scaler_scale_.npy\"\n",
    "valence_min_path = \"/content/drive/MyDrive/과정운영/KSEB/2025년도/프로젝트 결과/04. 김요한_전호연_김시명팀/김요한/valence_scaler_min_.npy\"\n",
    "\n",
    "tempo_scale_path = \"/content/drive/MyDrive/과정운영/KSEB/2025년도/프로젝트 결과/04. 김요한_전호연_김시명팀/김요한/tempo_scaler_scale_.npy\"\n",
    "tempo_min_path = \"/content/drive/MyDrive/과정운영/KSEB/2025년도/프로젝트 결과/04. 김요한_전호연_김시명팀/김요한/tempo_scaler_min_.npy\"\n",
    "\n",
    "\n",
    "# if os.path.exists(scale_path) and os.path.exists(min_path):\n",
    "#     # 🔁 기존 스케일러 복원\n",
    "#     tempo_scaler.scale_ = np.load(scale_path)\n",
    "#     tempo_scaler.min_ = 0\n",
    "#     tempo_scaler.data_min_ = np.load(min_path)\n",
    "#     tempo_scaler.data_max_ = tempo_scaler.data_min_ + 1 / tempo_scaler.scale_\n",
    "#     labels_tempo_scaled = tempo_scaler.transform(labels_tempo).ravel()\n",
    "\n",
    "#     print(\"✅ tempo_scaler 복원 완료\")\n",
    "# else:\n",
    "#     # 🆕 새로 학습 후 저장\n"
   ]
  },
  {
   "cell_type": "code",
   "execution_count": null,
   "metadata": {
    "id": "_U-d0--CVJLa"
   },
   "outputs": [],
   "source": [
    "###################LOUDNESS###################\n",
    "\n",
    "labels_loudness_scaled = loudness_scaler.fit_transform(labels_loudness).ravel()\n",
    "np.save(loudness_scale_path, loudness_scaler.scale_)\n",
    "np.save(loudness_min_path, loudness_scaler.data_min_)\n",
    "\n",
    "features_train, features_test, loudness_y_train, loudness_y_test = train_test_split(\n",
    "    padding, labels_loudness_scaled, test_size=0.2, random_state=42\n",
    "  )\n",
    "\n",
    "###################VALENCE###################\n",
    "\n",
    "labels_valence_scaled = valence_scaler.fit_transform(labels_valence).ravel()\n",
    "np.save(valence_scale_path, valence_scaler.scale_)\n",
    "np.save(valence_min_path, valence_scaler.data_min_)\n",
    "\n",
    "features_train, features_test, valence_y_train, valence_y_test = train_test_split(\n",
    "    padding, labels_valence_scaled, test_size=0.2, random_state=42\n",
    "  )\n",
    "\n",
    "###################TEMPO###################\n",
    "\n",
    "labels_tempo_scaled = tempo_scaler.fit_transform(labels_tempo).ravel()\n",
    "np.save(tempo_scale_path, tempo_scaler.scale_)\n",
    "np.save(tempo_min_path, tempo_scaler.data_min_)\n",
    "\n",
    "features_train, features_test, tempo_y_train, tempo_y_test = train_test_split(\n",
    "    padding, labels_tempo_scaled, test_size=0.2, random_state=42\n",
    "  )\n",
    "\n",
    "\n",
    "# features_train, features_test, y_train, y_test = train_test_split(\n",
    "#     padding, labels_tempo_scaled, test_size=0.2, random_state=42\n",
    "#   )\n",
    "\n",
    "\n",
    "# print(features_train.shape)\n",
    "# print(features_test.shape)\n",
    "# print(y_train.shape)\n",
    "# print(y_test.shape)"
   ]
  },
  {
   "cell_type": "markdown",
   "metadata": {
    "id": "fJhcXzCoJhWE"
   },
   "source": [
    "# CNN 기반 회귀 모델 생성\n",
    "- Mel-spectrogram에 적합하다고 함"
   ]
  },
  {
   "cell_type": "code",
   "execution_count": null,
   "metadata": {
    "id": "K44BJLQDQOQ9"
   },
   "outputs": [],
   "source": [
    "# 모델 생성\n",
    "\n",
    "# GlobalAveragePooling2D는 정보 축소가 너무 큼\n",
    "# tempo는 시간 전반의 구조를 반영해야 하는 전역적인 특성 → pooling보다는 flatten이 유리함\n",
    "\n",
    "# model_tempo = models.Sequential([\n",
    "#   layers.Input(shape=features_train.shape[1:]), # (128, 1876, 1)\n",
    "#   layers.Conv2D(32, (3, 3), activation='relu'),\n",
    "#   layers.MaxPooling2D((2, 2)),\n",
    "#   layers.Conv2D(64, (3, 3), activation='relu'),\n",
    "#   layers.GlobalAveragePooling2D(),\n",
    "#   layers.Dense(64, activation='relu'),\n",
    "#   layers.Dense(1) # 회귀 출력\n",
    "# ])\n",
    "\n",
    "# # Conv2D → LSTM 구조 (시간의 흐름 강조)\n",
    "# import tensorflow as tf\n",
    "# from tensorflow.keras.models import Sequential\n",
    "# from tensorflow.keras.layers import (Input, Conv2D, MaxPooling2D,\n",
    "#                                      Permute, Reshape, LSTM, Dense)\n",
    "\n",
    "# # ❶ 실제 시간 길이를 코드로 가져옵니다\n",
    "# T = features_train.shape[2]          # 예: 1876, 2000, … 무엇이든 OK\n",
    "\n",
    "# model_tempo = Sequential([\n",
    "#     Input(shape=(128, T, 1)),\n",
    "#     Dense(64, activation='relu'),\n",
    "#     Dense(1)\n",
    "# ])\n",
    "\n",
    "# model_tempo.compile(optimizer='adam', loss='mse', metrics=['mae'])"
   ]
  },
  {
   "cell_type": "code",
   "execution_count": null,
   "metadata": {
    "id": "hQ5rQo2B4zCu"
   },
   "outputs": [],
   "source": [
    "import tensorflow as tf\n",
    "from tensorflow.keras.models import Sequential\n",
    "from tensorflow.keras.layers import Input, Conv2D, MaxPooling2D, Flatten, Dense\n",
    "\n",
    "T = features_train.shape[2]        # 실제 시간 길이\n",
    "\n",
    "###################LOUDNESS###################\n",
    "\n",
    "model_loudness = Sequential([\n",
    "    Input(shape=(128, T, 1)),\n",
    "    Conv2D(32, (3,3), padding='same', activation='relu'),\n",
    "    MaxPooling2D((2,2)),\n",
    "    Conv2D(64, (3,3), padding='same', activation='relu'),\n",
    "    MaxPooling2D((2,2)),             # (32, T/4, 64)\n",
    "    tf.keras.layers.GlobalAveragePooling2D(),  # (batch, 64)\n",
    "    Dense(128, activation='relu'),\n",
    "    Dense(1)\n",
    "])\n",
    "model_loudness.compile(optimizer=tf.keras.optimizers.Adam(1e-4),\n",
    "                    loss='mse', metrics=['mae'])\n",
    "\n",
    "###################VALENCE###################\n",
    "\n",
    "model_valence = Sequential([\n",
    "    Input(shape=(128, T, 1)),\n",
    "    Conv2D(32, (3,3), padding='same', activation='relu'),\n",
    "    MaxPooling2D((2,2)),\n",
    "    Conv2D(64, (3,3), padding='same', activation='relu'),\n",
    "    MaxPooling2D((2,2)),             # (32, T/4, 64)\n",
    "    tf.keras.layers.GlobalAveragePooling2D(),  # (batch, 64)\n",
    "    Dense(128, activation='relu'),\n",
    "    Dense(1)\n",
    "])\n",
    "model_valence.compile(optimizer=tf.keras.optimizers.Adam(1e-4),\n",
    "                    loss='mse', metrics=['mae'])\n",
    "\n",
    "###################TEMPO###################\n",
    "\n",
    "model_tempo = Sequential([\n",
    "    Input(shape=(128, T, 1)),\n",
    "    Conv2D(32, (3,3), padding='same', activation='relu'),\n",
    "    MaxPooling2D((2,2)),\n",
    "    Conv2D(64, (3,3), padding='same', activation='relu'),\n",
    "    MaxPooling2D((2,2)),             # (32, T/4, 64)\n",
    "    tf.keras.layers.GlobalAveragePooling2D(),  # (batch, 64)\n",
    "    Dense(128, activation='relu'),\n",
    "    Dense(1)\n",
    "])\n",
    "model_tempo.compile(optimizer=tf.keras.optimizers.Adam(1e-4),\n",
    "                    loss='mse', metrics=['mae'])"
   ]
  },
  {
   "cell_type": "markdown",
   "metadata": {
    "id": "1Szqm1Q_UEgy"
   },
   "source": [
    "# 모델 학습"
   ]
  },
  {
   "cell_type": "code",
   "execution_count": null,
   "metadata": {
    "colab": {
     "base_uri": "https://localhost:8080/",
     "height": 1000
    },
    "collapsed": true,
    "executionInfo": {
     "elapsed": 45183,
     "status": "error",
     "timestamp": 1749724950767,
     "user": {
      "displayName": "HK CODE",
      "userId": "00117506600363457025"
     },
     "user_tz": -540
    },
    "id": "vda5y-NtUFbB",
    "outputId": "07655f95-a4e3-4fe7-b664-c05af80ef3e5"
   },
   "outputs": [
    {
     "name": "stdout",
     "output_type": "stream",
     "text": [
      "Epoch 1/500\n"
     ]
    },
    {
     "ename": "ResourceExhaustedError",
     "evalue": "Graph execution error:\n\nDetected at node StatefulPartitionedCall defined at (most recent call last):\n  File \"<frozen runpy>\", line 198, in _run_module_as_main\n\n  File \"<frozen runpy>\", line 88, in _run_code\n\n  File \"/usr/local/lib/python3.11/dist-packages/colab_kernel_launcher.py\", line 37, in <module>\n\n  File \"/usr/local/lib/python3.11/dist-packages/traitlets/config/application.py\", line 992, in launch_instance\n\n  File \"/usr/local/lib/python3.11/dist-packages/ipykernel/kernelapp.py\", line 712, in start\n\n  File \"/usr/local/lib/python3.11/dist-packages/tornado/platform/asyncio.py\", line 205, in start\n\n  File \"/usr/lib/python3.11/asyncio/base_events.py\", line 608, in run_forever\n\n  File \"/usr/lib/python3.11/asyncio/base_events.py\", line 1936, in _run_once\n\n  File \"/usr/lib/python3.11/asyncio/events.py\", line 84, in _run\n\n  File \"/usr/local/lib/python3.11/dist-packages/ipykernel/kernelbase.py\", line 510, in dispatch_queue\n\n  File \"/usr/local/lib/python3.11/dist-packages/ipykernel/kernelbase.py\", line 499, in process_one\n\n  File \"/usr/local/lib/python3.11/dist-packages/ipykernel/kernelbase.py\", line 406, in dispatch_shell\n\n  File \"/usr/local/lib/python3.11/dist-packages/ipykernel/kernelbase.py\", line 730, in execute_request\n\n  File \"/usr/local/lib/python3.11/dist-packages/ipykernel/ipkernel.py\", line 383, in do_execute\n\n  File \"/usr/local/lib/python3.11/dist-packages/ipykernel/zmqshell.py\", line 528, in run_cell\n\n  File \"/usr/local/lib/python3.11/dist-packages/IPython/core/interactiveshell.py\", line 2975, in run_cell\n\n  File \"/usr/local/lib/python3.11/dist-packages/IPython/core/interactiveshell.py\", line 3030, in _run_cell\n\n  File \"/usr/local/lib/python3.11/dist-packages/IPython/core/async_helpers.py\", line 78, in _pseudo_sync_runner\n\n  File \"/usr/local/lib/python3.11/dist-packages/IPython/core/interactiveshell.py\", line 3257, in run_cell_async\n\n  File \"/usr/local/lib/python3.11/dist-packages/IPython/core/interactiveshell.py\", line 3473, in run_ast_nodes\n\n  File \"/usr/local/lib/python3.11/dist-packages/IPython/core/interactiveshell.py\", line 3553, in run_code\n\n  File \"<ipython-input-13-2780707498>\", line 18, in <cell line: 0>\n\n  File \"/usr/local/lib/python3.11/dist-packages/keras/src/utils/traceback_utils.py\", line 117, in error_handler\n\n  File \"/usr/local/lib/python3.11/dist-packages/keras/src/backend/tensorflow/trainer.py\", line 371, in fit\n\n  File \"/usr/local/lib/python3.11/dist-packages/keras/src/backend/tensorflow/trainer.py\", line 219, in function\n\n  File \"/usr/local/lib/python3.11/dist-packages/keras/src/backend/tensorflow/trainer.py\", line 132, in multi_step_on_iterator\n\nOut of memory while trying to allocate 16734796704 bytes.\n\t [[{{node StatefulPartitionedCall}}]]\nHint: If you want to see a list of allocated tensors when OOM happens, add report_tensor_allocations_upon_oom to RunOptions for current allocation info. This isn't available when running in Eager mode.\n [Op:__inference_multi_step_on_iterator_1931]",
     "output_type": "error",
     "traceback": [
      "\u001b[0;31m---------------------------------------------------------------------------\u001b[0m",
      "\u001b[0;31mResourceExhaustedError\u001b[0m                    Traceback (most recent call last)",
      "\u001b[0;32m<ipython-input-13-2780707498>\u001b[0m in \u001b[0;36m<cell line: 0>\u001b[0;34m()\u001b[0m\n\u001b[1;32m     16\u001b[0m \u001b[0;31m###################LOUDNESS###################\u001b[0m\u001b[0;34m\u001b[0m\u001b[0;34m\u001b[0m\u001b[0m\n\u001b[1;32m     17\u001b[0m \u001b[0;34m\u001b[0m\u001b[0m\n\u001b[0;32m---> 18\u001b[0;31m model_loudness.fit(\n\u001b[0m\u001b[1;32m     19\u001b[0m     \u001b[0mfeatures_train\u001b[0m\u001b[0;34m,\u001b[0m \u001b[0mloudness_y_train\u001b[0m\u001b[0;34m,\u001b[0m\u001b[0;34m\u001b[0m\u001b[0;34m\u001b[0m\u001b[0m\n\u001b[1;32m     20\u001b[0m     \u001b[0mepochs\u001b[0m\u001b[0;34m=\u001b[0m\u001b[0;36m500\u001b[0m\u001b[0;34m,\u001b[0m\u001b[0;34m\u001b[0m\u001b[0;34m\u001b[0m\u001b[0m\n",
      "\u001b[0;32m/usr/local/lib/python3.11/dist-packages/keras/src/utils/traceback_utils.py\u001b[0m in \u001b[0;36merror_handler\u001b[0;34m(*args, **kwargs)\u001b[0m\n\u001b[1;32m    120\u001b[0m             \u001b[0;31m# To get the full stack trace, call:\u001b[0m\u001b[0;34m\u001b[0m\u001b[0;34m\u001b[0m\u001b[0m\n\u001b[1;32m    121\u001b[0m             \u001b[0;31m# `keras.config.disable_traceback_filtering()`\u001b[0m\u001b[0;34m\u001b[0m\u001b[0;34m\u001b[0m\u001b[0m\n\u001b[0;32m--> 122\u001b[0;31m             \u001b[0;32mraise\u001b[0m \u001b[0me\u001b[0m\u001b[0;34m.\u001b[0m\u001b[0mwith_traceback\u001b[0m\u001b[0;34m(\u001b[0m\u001b[0mfiltered_tb\u001b[0m\u001b[0;34m)\u001b[0m \u001b[0;32mfrom\u001b[0m \u001b[0;32mNone\u001b[0m\u001b[0;34m\u001b[0m\u001b[0;34m\u001b[0m\u001b[0m\n\u001b[0m\u001b[1;32m    123\u001b[0m         \u001b[0;32mfinally\u001b[0m\u001b[0;34m:\u001b[0m\u001b[0;34m\u001b[0m\u001b[0;34m\u001b[0m\u001b[0m\n\u001b[1;32m    124\u001b[0m             \u001b[0;32mdel\u001b[0m \u001b[0mfiltered_tb\u001b[0m\u001b[0;34m\u001b[0m\u001b[0;34m\u001b[0m\u001b[0m\n",
      "\u001b[0;32m/usr/local/lib/python3.11/dist-packages/tensorflow/python/eager/execute.py\u001b[0m in \u001b[0;36mquick_execute\u001b[0;34m(op_name, num_outputs, inputs, attrs, ctx, name)\u001b[0m\n\u001b[1;32m     57\u001b[0m       \u001b[0me\u001b[0m\u001b[0;34m.\u001b[0m\u001b[0mmessage\u001b[0m \u001b[0;34m+=\u001b[0m \u001b[0;34m\" name: \"\u001b[0m \u001b[0;34m+\u001b[0m \u001b[0mname\u001b[0m\u001b[0;34m\u001b[0m\u001b[0;34m\u001b[0m\u001b[0m\n\u001b[1;32m     58\u001b[0m     \u001b[0;32mraise\u001b[0m \u001b[0mcore\u001b[0m\u001b[0;34m.\u001b[0m\u001b[0m_status_to_exception\u001b[0m\u001b[0;34m(\u001b[0m\u001b[0me\u001b[0m\u001b[0;34m)\u001b[0m \u001b[0;32mfrom\u001b[0m \u001b[0;32mNone\u001b[0m\u001b[0;34m\u001b[0m\u001b[0;34m\u001b[0m\u001b[0m\n\u001b[0;32m---> 59\u001b[0;31m   \u001b[0;32mexcept\u001b[0m \u001b[0mTypeError\u001b[0m \u001b[0;32mas\u001b[0m \u001b[0me\u001b[0m\u001b[0;34m:\u001b[0m\u001b[0;34m\u001b[0m\u001b[0;34m\u001b[0m\u001b[0m\n\u001b[0m\u001b[1;32m     60\u001b[0m     \u001b[0mkeras_symbolic_tensors\u001b[0m \u001b[0;34m=\u001b[0m \u001b[0;34m[\u001b[0m\u001b[0mx\u001b[0m \u001b[0;32mfor\u001b[0m \u001b[0mx\u001b[0m \u001b[0;32min\u001b[0m \u001b[0minputs\u001b[0m \u001b[0;32mif\u001b[0m \u001b[0m_is_keras_symbolic_tensor\u001b[0m\u001b[0;34m(\u001b[0m\u001b[0mx\u001b[0m\u001b[0;34m)\u001b[0m\u001b[0;34m]\u001b[0m\u001b[0;34m\u001b[0m\u001b[0;34m\u001b[0m\u001b[0m\n\u001b[1;32m     61\u001b[0m     \u001b[0;32mif\u001b[0m \u001b[0mkeras_symbolic_tensors\u001b[0m\u001b[0;34m:\u001b[0m\u001b[0;34m\u001b[0m\u001b[0;34m\u001b[0m\u001b[0m\n",
      "\u001b[0;31mResourceExhaustedError\u001b[0m: Graph execution error:\n\nDetected at node StatefulPartitionedCall defined at (most recent call last):\n  File \"<frozen runpy>\", line 198, in _run_module_as_main\n\n  File \"<frozen runpy>\", line 88, in _run_code\n\n  File \"/usr/local/lib/python3.11/dist-packages/colab_kernel_launcher.py\", line 37, in <module>\n\n  File \"/usr/local/lib/python3.11/dist-packages/traitlets/config/application.py\", line 992, in launch_instance\n\n  File \"/usr/local/lib/python3.11/dist-packages/ipykernel/kernelapp.py\", line 712, in start\n\n  File \"/usr/local/lib/python3.11/dist-packages/tornado/platform/asyncio.py\", line 205, in start\n\n  File \"/usr/lib/python3.11/asyncio/base_events.py\", line 608, in run_forever\n\n  File \"/usr/lib/python3.11/asyncio/base_events.py\", line 1936, in _run_once\n\n  File \"/usr/lib/python3.11/asyncio/events.py\", line 84, in _run\n\n  File \"/usr/local/lib/python3.11/dist-packages/ipykernel/kernelbase.py\", line 510, in dispatch_queue\n\n  File \"/usr/local/lib/python3.11/dist-packages/ipykernel/kernelbase.py\", line 499, in process_one\n\n  File \"/usr/local/lib/python3.11/dist-packages/ipykernel/kernelbase.py\", line 406, in dispatch_shell\n\n  File \"/usr/local/lib/python3.11/dist-packages/ipykernel/kernelbase.py\", line 730, in execute_request\n\n  File \"/usr/local/lib/python3.11/dist-packages/ipykernel/ipkernel.py\", line 383, in do_execute\n\n  File \"/usr/local/lib/python3.11/dist-packages/ipykernel/zmqshell.py\", line 528, in run_cell\n\n  File \"/usr/local/lib/python3.11/dist-packages/IPython/core/interactiveshell.py\", line 2975, in run_cell\n\n  File \"/usr/local/lib/python3.11/dist-packages/IPython/core/interactiveshell.py\", line 3030, in _run_cell\n\n  File \"/usr/local/lib/python3.11/dist-packages/IPython/core/async_helpers.py\", line 78, in _pseudo_sync_runner\n\n  File \"/usr/local/lib/python3.11/dist-packages/IPython/core/interactiveshell.py\", line 3257, in run_cell_async\n\n  File \"/usr/local/lib/python3.11/dist-packages/IPython/core/interactiveshell.py\", line 3473, in run_ast_nodes\n\n  File \"/usr/local/lib/python3.11/dist-packages/IPython/core/interactiveshell.py\", line 3553, in run_code\n\n  File \"<ipython-input-13-2780707498>\", line 18, in <cell line: 0>\n\n  File \"/usr/local/lib/python3.11/dist-packages/keras/src/utils/traceback_utils.py\", line 117, in error_handler\n\n  File \"/usr/local/lib/python3.11/dist-packages/keras/src/backend/tensorflow/trainer.py\", line 371, in fit\n\n  File \"/usr/local/lib/python3.11/dist-packages/keras/src/backend/tensorflow/trainer.py\", line 219, in function\n\n  File \"/usr/local/lib/python3.11/dist-packages/keras/src/backend/tensorflow/trainer.py\", line 132, in multi_step_on_iterator\n\nOut of memory while trying to allocate 16734796704 bytes.\n\t [[{{node StatefulPartitionedCall}}]]\nHint: If you want to see a list of allocated tensors when OOM happens, add report_tensor_allocations_upon_oom to RunOptions for current allocation info. This isn't available when running in Eager mode.\n [Op:__inference_multi_step_on_iterator_1931]"
     ]
    }
   ],
   "source": [
    "from tensorflow.keras.callbacks import EarlyStopping, ModelCheckpoint\n",
    "\n",
    "callbacks = [\n",
    "    EarlyStopping(patience=5, restore_best_weights=True),\n",
    "    ModelCheckpoint(\"best_model.keras\", save_best_only=True)\n",
    "]\n",
    "\n",
    "# history = model_tempo.fit(\n",
    "#     features_train, y_train,\n",
    "#     epochs=1000,\n",
    "#     batch_size=16,\n",
    "#     validation_split=0.2,\n",
    "#     callbacks=callbacks\n",
    "# )\n",
    "\n",
    "###################LOUDNESS###################\n",
    "\n",
    "model_loudness.fit(\n",
    "    features_train, loudness_y_train,\n",
    "    epochs=500,\n",
    "    batch_size=16,\n",
    "    validation_split=0.2,\n",
    "    callbacks=callbacks\n",
    ")\n",
    "\n",
    "###################VALENCE###################\n",
    "\n",
    "model_valence.fit(\n",
    "    features_train, valence_y_train,\n",
    "    epochs=500,\n",
    "    batch_size=16,\n",
    "    validation_split=0.2,\n",
    "    callbacks=callbacks\n",
    ")\n",
    "\n",
    "###################TEMPO###################\n",
    "\n",
    "model_tempo.fit(\n",
    "    features_train, tempo_y_train,\n",
    "    epochs=500,\n",
    "    batch_size=16,\n",
    "    validation_split=0.2,\n",
    "    callbacks=callbacks\n",
    ")"
   ]
  },
  {
   "cell_type": "code",
   "execution_count": null,
   "metadata": {
    "id": "6EWjb6AdyVlA"
   },
   "outputs": [],
   "source": []
  },
  {
   "cell_type": "markdown",
   "metadata": {
    "id": "H7PPpS_zs8fX"
   },
   "source": [
    "# 사후 분석"
   ]
  },
  {
   "cell_type": "code",
   "execution_count": null,
   "metadata": {
    "id": "zzWeDfw8s66e"
   },
   "outputs": [],
   "source": [
    "# import matplotlib.pyplot as plt\n",
    "# # from ace_tools import display_dataframe_to_user # ace_tools 모듈은 존재하지 않으므로 제거\n",
    "\n",
    "# df_hist = pd.DataFrame(history.history)\n",
    "# # display_dataframe_to_user(\"Training History\", df_hist) # ace_tools 대체\n",
    "# print(\"Training History:\")\n",
    "# print(df_hist)\n",
    "\n",
    "\n",
    "# plt.figure()\n",
    "# plt.plot(df_hist['loss'], label='Train Loss')\n",
    "# if 'val_loss' in df_hist.columns:\n",
    "#     plt.plot(df_hist['val_loss'], label='Val Loss')\n",
    "# plt.xlabel(\"Epoch\")\n",
    "# plt.ylabel(\"MSE Loss\")\n",
    "# plt.legend()\n",
    "# plt.grid(True)\n",
    "# plt.title(\"Training & Validation Loss\")\n",
    "# plt.show()\n",
    "\n",
    "# if 'mae' in df_hist.columns:\n",
    "#     plt.figure()\n",
    "#     plt.plot(df_hist['mae'], label='Train MAE')\n",
    "#     if 'val_mae' in df_hist.columns:\n",
    "#         plt.plot(df_hist['val_mae'], label='Val MAE')\n",
    "#     plt.xlabel(\"Epoch\")\n",
    "#     plt.ylabel(\"MAE\")\n",
    "#     plt.legend()\n",
    "#     plt.grid(True)\n",
    "#     plt.title(\"Training & Validation MAE\")\n",
    "#     plt.show()\n",
    "\n",
    "# last_row = df_hist.tail(1).transpose().rename(columns={df_hist.index[-1]:\"Last_Epoch\"})\n",
    "# # display_dataframe_to_user(\"Final Metrics\", last_row) # ace_tools 대체\n",
    "# print(\"\\nFinal Metrics:\")\n",
    "# print(last_row)"
   ]
  },
  {
   "cell_type": "markdown",
   "metadata": {
    "id": "nMy7d47TUIqr"
   },
   "source": [
    "# 모델 저장"
   ]
  },
  {
   "cell_type": "code",
   "execution_count": null,
   "metadata": {
    "id": "YhY6OmGr1rrr"
   },
   "outputs": [],
   "source": [
    "###################LOUDNESS###################\n",
    "\n",
    "model_loudness.save(\"/content/drive/MyDrive/과정운영/KSEB/2025년도/프로젝트 결과/04. 김요한_전호연_김시명팀/김요한/loudness_model.keras\")\n",
    "np.save(\"/content/drive/MyDrive/과정운영/KSEB/2025년도/프로젝트 결과/04. 김요한_전호연_김시명팀/김요한/loudness_scaler_min_.npy\", loudness_scaler.data_min_)\n",
    "np.save(\"/content/drive/MyDrive/과정운영/KSEB/2025년도/프로젝트 결과/04. 김요한_전호연_김시명팀/김요한/loudness_scaler_scale_.npy\", loudness_scaler.scale_)\n",
    "\n",
    "\n",
    "###################VALENCE###################\n",
    "\n",
    "model_valence.save(\"/content/drive/MyDrive/과정운영/KSEB/2025년도/프로젝트 결과/04. 김요한_전호연_김시명팀/김요한/valence_model.keras\")\n",
    "np.save(\"/content/drive/MyDrive/과정운영/KSEB/2025년도/프로젝트 결과/04. 김요한_전호연_김시명팀/김요한/valence_scaler_min_.npy\", valence_scaler.data_min_)\n",
    "np.save(\"/content/drive/MyDrive/과정운영/KSEB/2025년도/프로젝트 결과/04. 김요한_전호연_김시명팀/김요한/valence_scaler_scale_.npy\", valence_scaler.scale_)\n",
    "\n",
    "\n",
    "###################TEMPO###################\n",
    "\n",
    "model_tempo.save(\"/content/drive/MyDrive/과정운영/KSEB/2025년도/프로젝트 결과/04. 김요한_전호연_김시명팀/김요한/tempo_model.keras\")\n",
    "np.save(\"/content/drive/MyDrive/과정운영/KSEB/2025년도/프로젝트 결과/04. 김요한_전호연_김시명팀/김요한/tempo_scaler_min_.npy\", tempo_scaler.data_min_)\n",
    "np.save(\"/content/drive/MyDrive/과정운영/KSEB/2025년도/프로젝트 결과/04. 김요한_전호연_김시명팀/김요한/tempo_scaler_scale_.npy\", tempo_scaler.scale_)"
   ]
  },
  {
   "cell_type": "markdown",
   "metadata": {
    "id": "Pbr1KUsXqVd9"
   },
   "source": [
    "# mel_scaler 추출\n",
    "# max_duration 추출: 학습 시켰던 음원 중 가장 긴 길이를 가져옴"
   ]
  },
  {
   "cell_type": "code",
   "execution_count": null,
   "metadata": {
    "colab": {
     "base_uri": "https://localhost:8080/"
    },
    "executionInfo": {
     "elapsed": 23,
     "status": "ok",
     "timestamp": 1749746348021,
     "user": {
      "displayName": "김요한 ([SSAFY_OB])",
      "userId": "02942415637779425101"
     },
     "user_tz": -540
    },
    "id": "8FqVNNDCqYSa",
    "outputId": "54219a2a-f90e-4ccc-f84e-2524c6538c25"
   },
   "outputs": [
    {
     "data": {
      "text/plain": [
       "['max_duration.pkl']"
      ]
     },
     "execution_count": 12,
     "metadata": {},
     "output_type": "execute_result"
    }
   ],
   "source": [
    "import joblib\n",
    "joblib.dump(mel_scaler, '/content/drive/MyDrive/과정운영/KSEB/2025년도/프로젝트 결과/04. 김요한_전호연_김시명팀/김요한/mel_scaler.pkl')\n",
    "joblib.dump(max_duration, '/content/drive/MyDrive/과정운영/KSEB/2025년도/프로젝트 결과/04. 김요한_전호연_김시명팀/김요한/max_duration.pkl')"
   ]
  },
  {
   "cell_type": "markdown",
   "metadata": {
    "id": "00r02m3iM6yx"
   },
   "source": []
  },
  {
   "cell_type": "code",
   "execution_count": null,
   "metadata": {
    "colab": {
     "base_uri": "https://localhost:8080/"
    },
    "executionInfo": {
     "elapsed": 21,
     "status": "ok",
     "timestamp": 1749746357075,
     "user": {
      "displayName": "김요한 ([SSAFY_OB])",
      "userId": "02942415637779425101"
     },
     "user_tz": -540
    },
    "id": "Gqu1Jk8rtq3d",
    "outputId": "0696220c-a151-4743-9f29-b1681f120ee6"
   },
   "outputs": [
    {
     "data": {
      "text/plain": [
       "16210"
      ]
     },
     "execution_count": 13,
     "metadata": {},
     "output_type": "execute_result"
    }
   ],
   "source": [
    "max_duration"
   ]
  },
  {
   "cell_type": "markdown",
   "metadata": {
    "id": "TGm_q8o3KEow"
   },
   "source": [
    "# 예측"
   ]
  },
  {
   "cell_type": "code",
   "execution_count": null,
   "metadata": {
    "colab": {
     "base_uri": "https://localhost:8080/"
    },
    "executionInfo": {
     "elapsed": 166,
     "status": "ok",
     "timestamp": 1749741288331,
     "user": {
      "displayName": "김요한 ([SSAFY_OB])",
      "userId": "02942415637779425101"
     },
     "user_tz": -540
    },
    "id": "eWxEgd5XsN5o",
    "outputId": "729eb1fa-f044-4b56-828c-5af0d1fa4671"
   },
   "outputs": [
    {
     "name": "stdout",
     "output_type": "stream",
     "text": [
      "ls: cannot access '/content/drive/1yKoEcQvRJah-exf8gmCCHvaY9N1ONJ4R?usp=drive_link': No such file or directory\n"
     ]
    }
   ],
   "source": [
    "!ls /content/drive/1yKoEcQvRJah-exf8gmCCHvaY9N1ONJ4R?usp=drive_link"
   ]
  },
  {
   "cell_type": "markdown",
   "metadata": {
    "id": "cAx-usHQVKn5"
   },
   "source": [
    "## 오디오 업로드 및 mel-spectrogram 작업"
   ]
  },
  {
   "cell_type": "code",
   "execution_count": null,
   "metadata": {
    "colab": {
     "base_uri": "https://localhost:8080/",
     "height": 384
    },
    "executionInfo": {
     "elapsed": 1168,
     "status": "error",
     "timestamp": 1749740872044,
     "user": {
      "displayName": "김요한 ([SSAFY_OB])",
      "userId": "02942415637779425101"
     },
     "user_tz": -540
    },
    "id": "SBjnpBndKFYy",
    "outputId": "042b0db2-114f-4b6a-beac-08c27912db51"
   },
   "outputs": [
    {
     "ename": "ValueError",
     "evalue": "File not found: filepath=/content/drive/MyDrive/과정운영/KSEB/2025년도/프로젝트 결과/04. 김요한_전호연_김시명팀/김요한/loudness_model.keras. Please ensure the file is an accessible `.keras` zip file.",
     "output_type": "error",
     "traceback": [
      "\u001b[0;31m---------------------------------------------------------------------------\u001b[0m",
      "\u001b[0;31mValueError\u001b[0m                                Traceback (most recent call last)",
      "\u001b[0;32m<ipython-input-3-3324731117>\u001b[0m in \u001b[0;36m<cell line: 0>\u001b[0;34m()\u001b[0m\n\u001b[1;32m      1\u001b[0m \u001b[0;31m###################LOUDNESS###################\u001b[0m\u001b[0;34m\u001b[0m\u001b[0;34m\u001b[0m\u001b[0m\n\u001b[1;32m      2\u001b[0m \u001b[0;34m\u001b[0m\u001b[0m\n\u001b[0;32m----> 3\u001b[0;31m \u001b[0mmodel_loudness\u001b[0m \u001b[0;34m=\u001b[0m \u001b[0mload_model\u001b[0m\u001b[0;34m(\u001b[0m\u001b[0;34m\"/content/drive/MyDrive/과정운영/KSEB/2025년도/프로젝트 결과/04. 김요한_전호연_김시명팀/김요한/loudness_model.keras\"\u001b[0m\u001b[0;34m)\u001b[0m\u001b[0;34m\u001b[0m\u001b[0;34m\u001b[0m\u001b[0m\n\u001b[0m\u001b[1;32m      4\u001b[0m \u001b[0mloudness_scaler\u001b[0m \u001b[0;34m=\u001b[0m \u001b[0mMinMaxScaler\u001b[0m\u001b[0;34m(\u001b[0m\u001b[0;34m)\u001b[0m \u001b[0;31m# 추론 시점에 새로 다시 선언\u001b[0m\u001b[0;34m\u001b[0m\u001b[0;34m\u001b[0m\u001b[0m\n\u001b[1;32m      5\u001b[0m \u001b[0mloudness_scaler\u001b[0m\u001b[0;34m.\u001b[0m\u001b[0mdata_min_\u001b[0m \u001b[0;34m=\u001b[0m \u001b[0mnp\u001b[0m\u001b[0;34m.\u001b[0m\u001b[0mload\u001b[0m\u001b[0;34m(\u001b[0m\u001b[0;34m\"/content/drive/MyDrive/과정운영/KSEB/2025년도/프로젝트 결과/04. 김요한_전호연_김시명팀/김요한/loudness_scaler_min_.npy\"\u001b[0m\u001b[0;34m)\u001b[0m\u001b[0;34m\u001b[0m\u001b[0;34m\u001b[0m\u001b[0m\n",
      "\u001b[0;32m/usr/local/lib/python3.11/dist-packages/keras/src/saving/saving_api.py\u001b[0m in \u001b[0;36mload_model\u001b[0;34m(filepath, custom_objects, compile, safe_mode)\u001b[0m\n\u001b[1;32m    198\u001b[0m         )\n\u001b[1;32m    199\u001b[0m     \u001b[0;32melif\u001b[0m \u001b[0mstr\u001b[0m\u001b[0;34m(\u001b[0m\u001b[0mfilepath\u001b[0m\u001b[0;34m)\u001b[0m\u001b[0;34m.\u001b[0m\u001b[0mendswith\u001b[0m\u001b[0;34m(\u001b[0m\u001b[0;34m\".keras\"\u001b[0m\u001b[0;34m)\u001b[0m\u001b[0;34m:\u001b[0m\u001b[0;34m\u001b[0m\u001b[0;34m\u001b[0m\u001b[0m\n\u001b[0;32m--> 200\u001b[0;31m         raise ValueError(\n\u001b[0m\u001b[1;32m    201\u001b[0m             \u001b[0;34mf\"File not found: filepath={filepath}. \"\u001b[0m\u001b[0;34m\u001b[0m\u001b[0;34m\u001b[0m\u001b[0m\n\u001b[1;32m    202\u001b[0m             \u001b[0;34m\"Please ensure the file is an accessible `.keras` \"\u001b[0m\u001b[0;34m\u001b[0m\u001b[0;34m\u001b[0m\u001b[0m\n",
      "\u001b[0;31mValueError\u001b[0m: File not found: filepath=/content/drive/MyDrive/과정운영/KSEB/2025년도/프로젝트 결과/04. 김요한_전호연_김시명팀/김요한/loudness_model.keras. Please ensure the file is an accessible `.keras` zip file."
     ]
    }
   ],
   "source": [
    "###################LOUDNESS###################\n",
    "\n",
    "model_loudness = load_model(\"/content/drive/MyDrive/과정운영/KSEB/2025년도/프로젝트 결과/04. 김요한_전호연_김시명팀/김요한/loudness_model.keras\")\n",
    "loudness_scaler = MinMaxScaler() # 추론 시점에 새로 다시 선언\n",
    "loudness_scaler.data_min_ = np.load(\"/content/drive/MyDrive/과정운영/KSEB/2025년도/프로젝트 결과/04. 김요한_전호연_김시명팀/김요한/loudness_scaler_min_.npy\")\n",
    "loudness_scaler.scale_ = np.load(\"/content/drive/MyDrive/과정운영/KSEB/2025년도/프로젝트 결과/04. 김요한_전호연_김시명팀/김요한/loudness_scaler_scale_.npy\")\n",
    "loudness_scaler.min_ = 0\n",
    "loudness_scaler.data_max_ = loudness_scaler.data_min_ + 1 / loudness_scaler.scale_\n",
    "\n",
    "\n",
    "\n",
    "###################VALENCE###################\n",
    "\n",
    "\n",
    "model_valence = load_model(\"/content/drive/MyDrive/과정운영/KSEB/2025년도/프로젝트 결과/04. 김요한_전호연_김시명팀/김요한/valence_model.keras\")\n",
    "valence_scaler = MinMaxScaler() # 추론 시점에 새로 다시 선언\n",
    "valence_scaler.data_min_ = np.load(\"/content/drive/MyDrive/과정운영/KSEB/2025년도/프로젝트 결과/04. 김요한_전호연_김시명팀/김요한/valence_scaler_min_.npy\")\n",
    "valence_scaler.scale_ = np.load(\"/content/drive/MyDrive/과정운영/KSEB/2025년도/프로젝트 결과/04. 김요한_전호연_김시명팀/김요한/valence_scaler_scale_.npy\")\n",
    "valence_scaler.min_ = 0\n",
    "valence_scaler.data_max_ = valence_scaler.data_min_ + 1 / valence_scaler.scale_\n",
    "\n",
    "\n",
    "\n",
    "###################TEMPO###################\n",
    "\n",
    "model_tempo = load_model(\"/content/drive/MyDrive/과정운영/KSEB/2025년도/프로젝트 결과/04. 김요한_전호연_김시명팀/김요한/tempo_model.keras\")\n",
    "tempo_scaler = MinMaxScaler() # 추론 시점에 새로 다시 선언\n",
    "tempo_scaler.data_min_ = np.load(\"/content/drive/MyDrive/과정운영/KSEB/2025년도/프로젝트 결과/04. 김요한_전호연_김시명팀/김요한/tempo_scaler_min_.npy\")\n",
    "tempo_scaler.scale_ = np.load(\"/content/drive/MyDrive/과정운영/KSEB/2025년도/프로젝트 결과/04. 김요한_전호연_김시명팀/김요한/tempo_scaler_scale_.npy\")\n",
    "tempo_scaler.min_ = 0\n",
    "tempo_scaler.data_max_ = tempo_scaler.data_min_ + 1 / tempo_scaler.scale_"
   ]
  },
  {
   "cell_type": "markdown",
   "metadata": {
    "id": "uod1yaFGVk_j"
   },
   "source": [
    "## 모델 및 scaler 불러오기"
   ]
  },
  {
   "cell_type": "code",
   "execution_count": null,
   "metadata": {
    "id": "97a1Y0W6VL92"
   },
   "outputs": [],
   "source": [
    "from google.colab import files\n",
    "\n",
    "uploaded = files.upload()\n",
    "filename = list(uploaded.keys())[0]\n",
    "\n",
    "y, sr = librosa.load(filename, sr=16000)\n",
    "mel = librosa.feature.melspectrogram(y=y, sr=sr, n_mels=128)\n",
    "mel_db = librosa.power_to_db(mel, ref=np.max)\n",
    "\n",
    "## 위에서 사용한 mel_scaler 재사용함\n",
    "mel_db = mel_scaler.transform(mel_db.reshape(-1, 1)).reshape(mel_db.shape)\n",
    "mel_db = np.expand_dims(mel_db, axis=-1) # (128, T) → (128, T, 1)\n",
    "\n",
    "\n",
    "# 길이 부족하면 반복해서 붙이고 잘라내기\n",
    "T = mel_db.shape[1]\n",
    "if T < max_duration:\n",
    "    repeat = int(np.ceil(max_duration / T))\n",
    "    mel_db = np.concatenate([mel_db] * repeat, axis=1)[:, :max_duration, :]\n",
    "else:\n",
    "    mel_db = mel_db[:, :max_duration, :]"
   ]
  },
  {
   "cell_type": "markdown",
   "metadata": {
    "id": "_yIYnUYUVu7r"
   },
   "source": [
    "## 예측"
   ]
  },
  {
   "cell_type": "code",
   "execution_count": null,
   "metadata": {
    "id": "BmShVBjZVwYW"
   },
   "outputs": [],
   "source": [
    "'''\n",
    "📌 참고 사항:\n",
    "\n",
    "mel_db 정규화용 scaler도 학습 시 fit한 값을 저장해두고 추론 시엔 transform만 사용해야 정합성 보장됩니다.\n",
    "\n",
    "tempoScaler를 np.save로 저장 후 불러오면 inverse_transform 사용이 가능하도록 min_, scale_ 설정을 복원해줘야 합니다\n",
    "'''\n",
    "\n",
    "###################model_tempo################### <- TEMPO\n",
    "\n",
    "# pred_scaled = model_tempo.predict(mel_db)\n",
    "# pred_bpm = tempo_scaler.inverse_transform(pred_scaled)\n",
    "# print(f\"🎵 {filename}의 예측된 템포: {pred_bpm[0][0]:.2f} BPM\")"
   ]
  },
  {
   "cell_type": "code",
   "execution_count": null,
   "metadata": {
    "id": "r_So0bIPayqO"
   },
   "outputs": [],
   "source": [
    "pred_loudness_scaled = model_loudness.predict(mel_db)\n",
    "pred_loudness = loudness_scaler.inverse_transform(pred_loudness_scaled)\n",
    "# print(f\"{pred_loudness[0][0]:.2f}\")"
   ]
  },
  {
   "cell_type": "code",
   "execution_count": null,
   "metadata": {
    "id": "eQoXUwE4be33"
   },
   "outputs": [],
   "source": [
    "pred_valence_scaled = model_valence.predict(mel_db)\n",
    "pred_valence = valence_scaler.inverse_transform(pred_valence_scaled)\n",
    "# print(f\"{pred_valence[0][0]:.2f}\")"
   ]
  },
  {
   "cell_type": "code",
   "execution_count": null,
   "metadata": {
    "id": "ojqM7Vw2bA5q"
   },
   "outputs": [],
   "source": [
    "pred_tempo_scaled = model_tempo.predict(mel_db)\n",
    "pred_tempo = tempo_scaler.inverse_transform(pred_tempo_scaled)\n",
    "# print(f\"{pred_tempo[0][0]:.2f}\")"
   ]
  },
  {
   "cell_type": "code",
   "execution_count": null,
   "metadata": {
    "id": "iUvhkvsjcjgg"
   },
   "outputs": [],
   "source": [
    "result = {\n",
    "    'loudness': float(f\"{pred_loudness[0][0]:.2f}\"),\n",
    "    'valence': float(f\"{pred_valence[0][0]:.2f}\"),\n",
    "    'tempo': float(f\"{pred_tempo[0][0]:.2f}\"),\n",
    "}\n",
    "result"
   ]
  },
  {
   "cell_type": "code",
   "execution_count": null,
   "metadata": {
    "id": "MO3m_Fx1PgAq"
   },
   "outputs": [],
   "source": [
    "!pip freeze >> requirements.txt"
   ]
  },
  {
   "cell_type": "markdown",
   "metadata": {
    "id": "UIw-cGg3V20p"
   },
   "source": [
    "### 시각화"
   ]
  }
 ],
 "metadata": {
  "accelerator": "GPU",
  "colab": {
   "gpuType": "T4",
   "machine_shape": "hm",
   "provenance": []
  },
  "kernelspec": {
   "display_name": "Python 3",
   "name": "python3"
  },
  "language_info": {
   "name": "python"
  }
 },
 "nbformat": 4,
 "nbformat_minor": 0
}
